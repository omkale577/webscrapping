{
  "nbformat": 4,
  "nbformat_minor": 0,
  "metadata": {
    "colab": {
      "provenance": []
    },
    "kernelspec": {
      "name": "python3",
      "display_name": "Python 3"
    },
    "language_info": {
      "name": "python"
    }
  },
  "cells": [
    {
      "cell_type": "code",
      "source": [
        "import requests\n",
        "from bs4 import BeautifulSoup\n",
        "import pandas as pd\n",
        "import sqlite3"
      ],
      "metadata": {
        "id": "ez1Dh1kF5nRj"
      },
      "execution_count": 23,
      "outputs": []
    },
    {
      "cell_type": "markdown",
      "source": [
        "# Webscraping Books Data"
      ],
      "metadata": {
        "id": "x-raMuFPHiss"
      }
    },
    {
      "cell_type": "code",
      "execution_count": 14,
      "metadata": {
        "colab": {
          "base_uri": "https://localhost:8080/",
          "height": 206
        },
        "id": "B1pGJu6I3-Al",
        "outputId": "6b198fcf-d0bd-43d0-f4c1-333ddebeca7b"
      },
      "outputs": [
        {
          "output_type": "execute_result",
          "data": {
            "text/plain": [
              "                                   title    price availability rating  \\\n",
              "0                   A Light in the Attic  Â£51.77     In stock  Three   \n",
              "1                     Tipping the Velvet  Â£53.74     In stock    One   \n",
              "2                             Soumission  Â£50.10     In stock    One   \n",
              "3                          Sharp Objects  Â£47.82     In stock   Four   \n",
              "4  Sapiens: A Brief History of Humankind  Â£54.23     In stock   Five   \n",
              "\n",
              "                                                 url  \\\n",
              "0     catalogue/a-light-in-the-attic_1000/index.html   \n",
              "1        catalogue/tipping-the-velvet_999/index.html   \n",
              "2                catalogue/soumission_998/index.html   \n",
              "3             catalogue/sharp-objects_997/index.html   \n",
              "4  catalogue/sapiens-a-brief-history-of-humankind...   \n",
              "\n",
              "                                           image_url  \n",
              "0  media/cache/2c/da/2cdad67c44b002e7ead0cc35693c...  \n",
              "1  media/cache/26/0c/260c6ae16bce31c8f8c95daddd9f...  \n",
              "2  media/cache/3e/ef/3eef99c9d9adef34639f51066202...  \n",
              "3  media/cache/32/51/3251cf3a3412f53f339e42cac213...  \n",
              "4  media/cache/be/a5/bea5697f2534a2f86a3ef27b5a8c...  "
            ],
            "text/html": [
              "\n",
              "  <div id=\"df-257a73fc-af74-4c4e-ad95-29839d9c9090\" class=\"colab-df-container\">\n",
              "    <div>\n",
              "<style scoped>\n",
              "    .dataframe tbody tr th:only-of-type {\n",
              "        vertical-align: middle;\n",
              "    }\n",
              "\n",
              "    .dataframe tbody tr th {\n",
              "        vertical-align: top;\n",
              "    }\n",
              "\n",
              "    .dataframe thead th {\n",
              "        text-align: right;\n",
              "    }\n",
              "</style>\n",
              "<table border=\"1\" class=\"dataframe\">\n",
              "  <thead>\n",
              "    <tr style=\"text-align: right;\">\n",
              "      <th></th>\n",
              "      <th>title</th>\n",
              "      <th>price</th>\n",
              "      <th>availability</th>\n",
              "      <th>rating</th>\n",
              "      <th>url</th>\n",
              "      <th>image_url</th>\n",
              "    </tr>\n",
              "  </thead>\n",
              "  <tbody>\n",
              "    <tr>\n",
              "      <th>0</th>\n",
              "      <td>A Light in the Attic</td>\n",
              "      <td>Â£51.77</td>\n",
              "      <td>In stock</td>\n",
              "      <td>Three</td>\n",
              "      <td>catalogue/a-light-in-the-attic_1000/index.html</td>\n",
              "      <td>media/cache/2c/da/2cdad67c44b002e7ead0cc35693c...</td>\n",
              "    </tr>\n",
              "    <tr>\n",
              "      <th>1</th>\n",
              "      <td>Tipping the Velvet</td>\n",
              "      <td>Â£53.74</td>\n",
              "      <td>In stock</td>\n",
              "      <td>One</td>\n",
              "      <td>catalogue/tipping-the-velvet_999/index.html</td>\n",
              "      <td>media/cache/26/0c/260c6ae16bce31c8f8c95daddd9f...</td>\n",
              "    </tr>\n",
              "    <tr>\n",
              "      <th>2</th>\n",
              "      <td>Soumission</td>\n",
              "      <td>Â£50.10</td>\n",
              "      <td>In stock</td>\n",
              "      <td>One</td>\n",
              "      <td>catalogue/soumission_998/index.html</td>\n",
              "      <td>media/cache/3e/ef/3eef99c9d9adef34639f51066202...</td>\n",
              "    </tr>\n",
              "    <tr>\n",
              "      <th>3</th>\n",
              "      <td>Sharp Objects</td>\n",
              "      <td>Â£47.82</td>\n",
              "      <td>In stock</td>\n",
              "      <td>Four</td>\n",
              "      <td>catalogue/sharp-objects_997/index.html</td>\n",
              "      <td>media/cache/32/51/3251cf3a3412f53f339e42cac213...</td>\n",
              "    </tr>\n",
              "    <tr>\n",
              "      <th>4</th>\n",
              "      <td>Sapiens: A Brief History of Humankind</td>\n",
              "      <td>Â£54.23</td>\n",
              "      <td>In stock</td>\n",
              "      <td>Five</td>\n",
              "      <td>catalogue/sapiens-a-brief-history-of-humankind...</td>\n",
              "      <td>media/cache/be/a5/bea5697f2534a2f86a3ef27b5a8c...</td>\n",
              "    </tr>\n",
              "  </tbody>\n",
              "</table>\n",
              "</div>\n",
              "    <div class=\"colab-df-buttons\">\n",
              "\n",
              "  <div class=\"colab-df-container\">\n",
              "    <button class=\"colab-df-convert\" onclick=\"convertToInteractive('df-257a73fc-af74-4c4e-ad95-29839d9c9090')\"\n",
              "            title=\"Convert this dataframe to an interactive table.\"\n",
              "            style=\"display:none;\">\n",
              "\n",
              "  <svg xmlns=\"http://www.w3.org/2000/svg\" height=\"24px\" viewBox=\"0 -960 960 960\">\n",
              "    <path d=\"M120-120v-720h720v720H120Zm60-500h600v-160H180v160Zm220 220h160v-160H400v160Zm0 220h160v-160H400v160ZM180-400h160v-160H180v160Zm440 0h160v-160H620v160ZM180-180h160v-160H180v160Zm440 0h160v-160H620v160Z\"/>\n",
              "  </svg>\n",
              "    </button>\n",
              "\n",
              "  <style>\n",
              "    .colab-df-container {\n",
              "      display:flex;\n",
              "      gap: 12px;\n",
              "    }\n",
              "\n",
              "    .colab-df-convert {\n",
              "      background-color: #E8F0FE;\n",
              "      border: none;\n",
              "      border-radius: 50%;\n",
              "      cursor: pointer;\n",
              "      display: none;\n",
              "      fill: #1967D2;\n",
              "      height: 32px;\n",
              "      padding: 0 0 0 0;\n",
              "      width: 32px;\n",
              "    }\n",
              "\n",
              "    .colab-df-convert:hover {\n",
              "      background-color: #E2EBFA;\n",
              "      box-shadow: 0px 1px 2px rgba(60, 64, 67, 0.3), 0px 1px 3px 1px rgba(60, 64, 67, 0.15);\n",
              "      fill: #174EA6;\n",
              "    }\n",
              "\n",
              "    .colab-df-buttons div {\n",
              "      margin-bottom: 4px;\n",
              "    }\n",
              "\n",
              "    [theme=dark] .colab-df-convert {\n",
              "      background-color: #3B4455;\n",
              "      fill: #D2E3FC;\n",
              "    }\n",
              "\n",
              "    [theme=dark] .colab-df-convert:hover {\n",
              "      background-color: #434B5C;\n",
              "      box-shadow: 0px 1px 3px 1px rgba(0, 0, 0, 0.15);\n",
              "      filter: drop-shadow(0px 1px 2px rgba(0, 0, 0, 0.3));\n",
              "      fill: #FFFFFF;\n",
              "    }\n",
              "  </style>\n",
              "\n",
              "    <script>\n",
              "      const buttonEl =\n",
              "        document.querySelector('#df-257a73fc-af74-4c4e-ad95-29839d9c9090 button.colab-df-convert');\n",
              "      buttonEl.style.display =\n",
              "        google.colab.kernel.accessAllowed ? 'block' : 'none';\n",
              "\n",
              "      async function convertToInteractive(key) {\n",
              "        const element = document.querySelector('#df-257a73fc-af74-4c4e-ad95-29839d9c9090');\n",
              "        const dataTable =\n",
              "          await google.colab.kernel.invokeFunction('convertToInteractive',\n",
              "                                                    [key], {});\n",
              "        if (!dataTable) return;\n",
              "\n",
              "        const docLinkHtml = 'Like what you see? Visit the ' +\n",
              "          '<a target=\"_blank\" href=https://colab.research.google.com/notebooks/data_table.ipynb>data table notebook</a>'\n",
              "          + ' to learn more about interactive tables.';\n",
              "        element.innerHTML = '';\n",
              "        dataTable['output_type'] = 'display_data';\n",
              "        await google.colab.output.renderOutput(dataTable, element);\n",
              "        const docLink = document.createElement('div');\n",
              "        docLink.innerHTML = docLinkHtml;\n",
              "        element.appendChild(docLink);\n",
              "      }\n",
              "    </script>\n",
              "  </div>\n",
              "\n",
              "\n",
              "<div id=\"df-45cf7f39-04e8-4a32-a09d-3d9a3fc00d1e\">\n",
              "  <button class=\"colab-df-quickchart\" onclick=\"quickchart('df-45cf7f39-04e8-4a32-a09d-3d9a3fc00d1e')\"\n",
              "            title=\"Suggest charts\"\n",
              "            style=\"display:none;\">\n",
              "\n",
              "<svg xmlns=\"http://www.w3.org/2000/svg\" height=\"24px\"viewBox=\"0 0 24 24\"\n",
              "     width=\"24px\">\n",
              "    <g>\n",
              "        <path d=\"M19 3H5c-1.1 0-2 .9-2 2v14c0 1.1.9 2 2 2h14c1.1 0 2-.9 2-2V5c0-1.1-.9-2-2-2zM9 17H7v-7h2v7zm4 0h-2V7h2v10zm4 0h-2v-4h2v4z\"/>\n",
              "    </g>\n",
              "</svg>\n",
              "  </button>\n",
              "\n",
              "<style>\n",
              "  .colab-df-quickchart {\n",
              "      --bg-color: #E8F0FE;\n",
              "      --fill-color: #1967D2;\n",
              "      --hover-bg-color: #E2EBFA;\n",
              "      --hover-fill-color: #174EA6;\n",
              "      --disabled-fill-color: #AAA;\n",
              "      --disabled-bg-color: #DDD;\n",
              "  }\n",
              "\n",
              "  [theme=dark] .colab-df-quickchart {\n",
              "      --bg-color: #3B4455;\n",
              "      --fill-color: #D2E3FC;\n",
              "      --hover-bg-color: #434B5C;\n",
              "      --hover-fill-color: #FFFFFF;\n",
              "      --disabled-bg-color: #3B4455;\n",
              "      --disabled-fill-color: #666;\n",
              "  }\n",
              "\n",
              "  .colab-df-quickchart {\n",
              "    background-color: var(--bg-color);\n",
              "    border: none;\n",
              "    border-radius: 50%;\n",
              "    cursor: pointer;\n",
              "    display: none;\n",
              "    fill: var(--fill-color);\n",
              "    height: 32px;\n",
              "    padding: 0;\n",
              "    width: 32px;\n",
              "  }\n",
              "\n",
              "  .colab-df-quickchart:hover {\n",
              "    background-color: var(--hover-bg-color);\n",
              "    box-shadow: 0 1px 2px rgba(60, 64, 67, 0.3), 0 1px 3px 1px rgba(60, 64, 67, 0.15);\n",
              "    fill: var(--button-hover-fill-color);\n",
              "  }\n",
              "\n",
              "  .colab-df-quickchart-complete:disabled,\n",
              "  .colab-df-quickchart-complete:disabled:hover {\n",
              "    background-color: var(--disabled-bg-color);\n",
              "    fill: var(--disabled-fill-color);\n",
              "    box-shadow: none;\n",
              "  }\n",
              "\n",
              "  .colab-df-spinner {\n",
              "    border: 2px solid var(--fill-color);\n",
              "    border-color: transparent;\n",
              "    border-bottom-color: var(--fill-color);\n",
              "    animation:\n",
              "      spin 1s steps(1) infinite;\n",
              "  }\n",
              "\n",
              "  @keyframes spin {\n",
              "    0% {\n",
              "      border-color: transparent;\n",
              "      border-bottom-color: var(--fill-color);\n",
              "      border-left-color: var(--fill-color);\n",
              "    }\n",
              "    20% {\n",
              "      border-color: transparent;\n",
              "      border-left-color: var(--fill-color);\n",
              "      border-top-color: var(--fill-color);\n",
              "    }\n",
              "    30% {\n",
              "      border-color: transparent;\n",
              "      border-left-color: var(--fill-color);\n",
              "      border-top-color: var(--fill-color);\n",
              "      border-right-color: var(--fill-color);\n",
              "    }\n",
              "    40% {\n",
              "      border-color: transparent;\n",
              "      border-right-color: var(--fill-color);\n",
              "      border-top-color: var(--fill-color);\n",
              "    }\n",
              "    60% {\n",
              "      border-color: transparent;\n",
              "      border-right-color: var(--fill-color);\n",
              "    }\n",
              "    80% {\n",
              "      border-color: transparent;\n",
              "      border-right-color: var(--fill-color);\n",
              "      border-bottom-color: var(--fill-color);\n",
              "    }\n",
              "    90% {\n",
              "      border-color: transparent;\n",
              "      border-bottom-color: var(--fill-color);\n",
              "    }\n",
              "  }\n",
              "</style>\n",
              "\n",
              "  <script>\n",
              "    async function quickchart(key) {\n",
              "      const quickchartButtonEl =\n",
              "        document.querySelector('#' + key + ' button');\n",
              "      quickchartButtonEl.disabled = true;  // To prevent multiple clicks.\n",
              "      quickchartButtonEl.classList.add('colab-df-spinner');\n",
              "      try {\n",
              "        const charts = await google.colab.kernel.invokeFunction(\n",
              "            'suggestCharts', [key], {});\n",
              "      } catch (error) {\n",
              "        console.error('Error during call to suggestCharts:', error);\n",
              "      }\n",
              "      quickchartButtonEl.classList.remove('colab-df-spinner');\n",
              "      quickchartButtonEl.classList.add('colab-df-quickchart-complete');\n",
              "    }\n",
              "    (() => {\n",
              "      let quickchartButtonEl =\n",
              "        document.querySelector('#df-45cf7f39-04e8-4a32-a09d-3d9a3fc00d1e button');\n",
              "      quickchartButtonEl.style.display =\n",
              "        google.colab.kernel.accessAllowed ? 'block' : 'none';\n",
              "    })();\n",
              "  </script>\n",
              "</div>\n",
              "\n",
              "    </div>\n",
              "  </div>\n"
            ],
            "application/vnd.google.colaboratory.intrinsic+json": {
              "type": "dataframe",
              "variable_name": "df",
              "summary": "{\n  \"name\": \"df\",\n  \"rows\": 20,\n  \"fields\": [\n    {\n      \"column\": \"title\",\n      \"properties\": {\n        \"dtype\": \"string\",\n        \"num_unique_values\": 20,\n        \"samples\": [\n          \"A Light in the Attic\",\n          \"Mesaerion: The Best Science Fiction Stories 1800-1849\",\n          \"Our Band Could Be Your Life: Scenes from the American Indie Underground, 1981-1991\"\n        ],\n        \"semantic_type\": \"\",\n        \"description\": \"\"\n      }\n    },\n    {\n      \"column\": \"price\",\n      \"properties\": {\n        \"dtype\": \"string\",\n        \"num_unique_values\": 20,\n        \"samples\": [\n          \"\\u00c2\\u00a351.77\",\n          \"\\u00c2\\u00a337.59\",\n          \"\\u00c2\\u00a357.25\"\n        ],\n        \"semantic_type\": \"\",\n        \"description\": \"\"\n      }\n    },\n    {\n      \"column\": \"availability\",\n      \"properties\": {\n        \"dtype\": \"category\",\n        \"num_unique_values\": 1,\n        \"samples\": [\n          \"In stock\"\n        ],\n        \"semantic_type\": \"\",\n        \"description\": \"\"\n      }\n    },\n    {\n      \"column\": \"rating\",\n      \"properties\": {\n        \"dtype\": \"category\",\n        \"num_unique_values\": 5,\n        \"samples\": [\n          \"One\"\n        ],\n        \"semantic_type\": \"\",\n        \"description\": \"\"\n      }\n    },\n    {\n      \"column\": \"url\",\n      \"properties\": {\n        \"dtype\": \"string\",\n        \"num_unique_values\": 20,\n        \"samples\": [\n          \"catalogue/a-light-in-the-attic_1000/index.html\"\n        ],\n        \"semantic_type\": \"\",\n        \"description\": \"\"\n      }\n    },\n    {\n      \"column\": \"image_url\",\n      \"properties\": {\n        \"dtype\": \"string\",\n        \"num_unique_values\": 20,\n        \"samples\": [\n          \"media/cache/2c/da/2cdad67c44b002e7ead0cc35693c0e8b.jpg\"\n        ],\n        \"semantic_type\": \"\",\n        \"description\": \"\"\n      }\n    }\n  ]\n}"
            }
          },
          "metadata": {},
          "execution_count": 14
        }
      ],
      "source": [
        "# URL of the website to scrape\n",
        "url = \"http://books.toscrape.com/\"\n",
        "\n",
        "# Send a GET request to fetch the page\n",
        "response = requests.get(url)\n",
        "soup = BeautifulSoup(response.text, 'html.parser')\n",
        "\n",
        "# Extract data: Book Title, Price, Availability, Rating, URL, Image URL\n",
        "books = []\n",
        "for book in soup.find_all('article', class_='product_pod'):\n",
        "    title = book.h3.a['title']\n",
        "    price = book.find('p', class_='price_color').text\n",
        "    availability = book.find('p', class_='instock availability').text.strip()\n",
        "    rating = book.p['class'][1]  # Extract the rating class (e.g., \"three\", \"four\")\n",
        "    url = book.h3.a['href']\n",
        "    image_url = book.find('img')['src']\n",
        "\n",
        "    books.append({\n",
        "        'title': title,\n",
        "        'price': price,\n",
        "        'availability': availability,\n",
        "        'rating': rating,\n",
        "        'url': url,\n",
        "        'image_url': image_url\n",
        "    })\n",
        "\n",
        "# Convert to DataFrame for easy processing\n",
        "df = pd.DataFrame(books)\n",
        "\n",
        "# Display the DataFrame\n",
        "df.head()"
      ]
    },
    {
      "cell_type": "code",
      "source": [
        "## Data cleaning and preprocessing"
      ],
      "metadata": {
        "id": "sFgdqgXR4E1E"
      },
      "execution_count": 2,
      "outputs": []
    },
    {
      "cell_type": "code",
      "source": [
        "df.info()"
      ],
      "metadata": {
        "colab": {
          "base_uri": "https://localhost:8080/"
        },
        "id": "4wb3DD6O4P9M",
        "outputId": "a614c3bd-dc01-4112-bd14-3d332e247e3e"
      },
      "execution_count": 15,
      "outputs": [
        {
          "output_type": "stream",
          "name": "stdout",
          "text": [
            "<class 'pandas.core.frame.DataFrame'>\n",
            "RangeIndex: 20 entries, 0 to 19\n",
            "Data columns (total 6 columns):\n",
            " #   Column        Non-Null Count  Dtype \n",
            "---  ------        --------------  ----- \n",
            " 0   title         20 non-null     object\n",
            " 1   price         20 non-null     object\n",
            " 2   availability  20 non-null     object\n",
            " 3   rating        20 non-null     object\n",
            " 4   url           20 non-null     object\n",
            " 5   image_url     20 non-null     object\n",
            "dtypes: object(6)\n",
            "memory usage: 1.1+ KB\n"
          ]
        }
      ]
    },
    {
      "cell_type": "code",
      "source": [
        "df.isnull().sum()"
      ],
      "metadata": {
        "colab": {
          "base_uri": "https://localhost:8080/",
          "height": 272
        },
        "id": "ChEtvv1U4TZe",
        "outputId": "4ebaf2fa-628e-4b35-aab9-922142641ca5"
      },
      "execution_count": 16,
      "outputs": [
        {
          "output_type": "execute_result",
          "data": {
            "text/plain": [
              "title           0\n",
              "price           0\n",
              "availability    0\n",
              "rating          0\n",
              "url             0\n",
              "image_url       0\n",
              "dtype: int64"
            ],
            "text/html": [
              "<div>\n",
              "<style scoped>\n",
              "    .dataframe tbody tr th:only-of-type {\n",
              "        vertical-align: middle;\n",
              "    }\n",
              "\n",
              "    .dataframe tbody tr th {\n",
              "        vertical-align: top;\n",
              "    }\n",
              "\n",
              "    .dataframe thead th {\n",
              "        text-align: right;\n",
              "    }\n",
              "</style>\n",
              "<table border=\"1\" class=\"dataframe\">\n",
              "  <thead>\n",
              "    <tr style=\"text-align: right;\">\n",
              "      <th></th>\n",
              "      <th>0</th>\n",
              "    </tr>\n",
              "  </thead>\n",
              "  <tbody>\n",
              "    <tr>\n",
              "      <th>title</th>\n",
              "      <td>0</td>\n",
              "    </tr>\n",
              "    <tr>\n",
              "      <th>price</th>\n",
              "      <td>0</td>\n",
              "    </tr>\n",
              "    <tr>\n",
              "      <th>availability</th>\n",
              "      <td>0</td>\n",
              "    </tr>\n",
              "    <tr>\n",
              "      <th>rating</th>\n",
              "      <td>0</td>\n",
              "    </tr>\n",
              "    <tr>\n",
              "      <th>url</th>\n",
              "      <td>0</td>\n",
              "    </tr>\n",
              "    <tr>\n",
              "      <th>image_url</th>\n",
              "      <td>0</td>\n",
              "    </tr>\n",
              "  </tbody>\n",
              "</table>\n",
              "</div><br><label><b>dtype:</b> int64</label>"
            ]
          },
          "metadata": {},
          "execution_count": 16
        }
      ]
    },
    {
      "cell_type": "code",
      "source": [
        "# Remove currency symbol and any unwanted characters, then convert to float\n",
        "df['price'] = df['price'].replace('£', '', regex=True)  # Remove the £ symbol\n",
        "df['price'] = df['price'].replace(r'[^\\d\\.]', '', regex=True)  # Remove any non-numeric characters (e.g., Â)\n",
        "df['price'] = df['price'].astype(float)  # Convert the cleaned string to float"
      ],
      "metadata": {
        "id": "MSF3nOXo4WOg"
      },
      "execution_count": 17,
      "outputs": []
    },
    {
      "cell_type": "markdown",
      "source": [
        "# Transformation\n"
      ],
      "metadata": {
        "id": "0ajO4fH74uRI"
      }
    },
    {
      "cell_type": "code",
      "source": [
        "print(df['rating'].unique())"
      ],
      "metadata": {
        "colab": {
          "base_uri": "https://localhost:8080/"
        },
        "id": "QrqU7ya85MMr",
        "outputId": "c7ccf0b0-87f3-406d-8215-9f37bdbae864"
      },
      "execution_count": 18,
      "outputs": [
        {
          "output_type": "stream",
          "name": "stdout",
          "text": [
            "['Three' 'One' 'Four' 'Five' 'Two']\n"
          ]
        }
      ]
    },
    {
      "cell_type": "code",
      "source": [
        "# Convert the ratings to numerical values (for example: one -> 1, two -> 2, etc.)\n",
        "rating_map = {'One': 1, 'Two': 2, 'Three': 3, 'Four': 4, 'Five': 5}\n",
        "df['rating'] = df['rating'].map(rating_map)"
      ],
      "metadata": {
        "id": "mQVQIYME4ZMN"
      },
      "execution_count": 19,
      "outputs": []
    },
    {
      "cell_type": "code",
      "source": [
        "# Categorize books based on price\n",
        "def price_category(price):\n",
        "    if price < 10:\n",
        "        return 'Low'\n",
        "    elif price < 20:\n",
        "        return 'Medium'\n",
        "    else:\n",
        "        return 'High'\n",
        "\n",
        "df['price_category'] = df['price'].apply(price_category)"
      ],
      "metadata": {
        "id": "dwVy5ICC4lJV"
      },
      "execution_count": 20,
      "outputs": []
    },
    {
      "cell_type": "code",
      "source": [
        "df.head()"
      ],
      "metadata": {
        "colab": {
          "base_uri": "https://localhost:8080/",
          "height": 241
        },
        "id": "yQPiX4IZ4v-L",
        "outputId": "8fab55b8-302f-4cb2-bc96-d79dc6a4019f"
      },
      "execution_count": 21,
      "outputs": [
        {
          "output_type": "execute_result",
          "data": {
            "text/plain": [
              "                                   title  price availability  rating  \\\n",
              "0                   A Light in the Attic  51.77     In stock       3   \n",
              "1                     Tipping the Velvet  53.74     In stock       1   \n",
              "2                             Soumission  50.10     In stock       1   \n",
              "3                          Sharp Objects  47.82     In stock       4   \n",
              "4  Sapiens: A Brief History of Humankind  54.23     In stock       5   \n",
              "\n",
              "                                                 url  \\\n",
              "0     catalogue/a-light-in-the-attic_1000/index.html   \n",
              "1        catalogue/tipping-the-velvet_999/index.html   \n",
              "2                catalogue/soumission_998/index.html   \n",
              "3             catalogue/sharp-objects_997/index.html   \n",
              "4  catalogue/sapiens-a-brief-history-of-humankind...   \n",
              "\n",
              "                                           image_url price_category  \n",
              "0  media/cache/2c/da/2cdad67c44b002e7ead0cc35693c...           High  \n",
              "1  media/cache/26/0c/260c6ae16bce31c8f8c95daddd9f...           High  \n",
              "2  media/cache/3e/ef/3eef99c9d9adef34639f51066202...           High  \n",
              "3  media/cache/32/51/3251cf3a3412f53f339e42cac213...           High  \n",
              "4  media/cache/be/a5/bea5697f2534a2f86a3ef27b5a8c...           High  "
            ],
            "text/html": [
              "\n",
              "  <div id=\"df-8b4175bf-b32a-4be3-9cb5-e19ee24fe347\" class=\"colab-df-container\">\n",
              "    <div>\n",
              "<style scoped>\n",
              "    .dataframe tbody tr th:only-of-type {\n",
              "        vertical-align: middle;\n",
              "    }\n",
              "\n",
              "    .dataframe tbody tr th {\n",
              "        vertical-align: top;\n",
              "    }\n",
              "\n",
              "    .dataframe thead th {\n",
              "        text-align: right;\n",
              "    }\n",
              "</style>\n",
              "<table border=\"1\" class=\"dataframe\">\n",
              "  <thead>\n",
              "    <tr style=\"text-align: right;\">\n",
              "      <th></th>\n",
              "      <th>title</th>\n",
              "      <th>price</th>\n",
              "      <th>availability</th>\n",
              "      <th>rating</th>\n",
              "      <th>url</th>\n",
              "      <th>image_url</th>\n",
              "      <th>price_category</th>\n",
              "    </tr>\n",
              "  </thead>\n",
              "  <tbody>\n",
              "    <tr>\n",
              "      <th>0</th>\n",
              "      <td>A Light in the Attic</td>\n",
              "      <td>51.77</td>\n",
              "      <td>In stock</td>\n",
              "      <td>3</td>\n",
              "      <td>catalogue/a-light-in-the-attic_1000/index.html</td>\n",
              "      <td>media/cache/2c/da/2cdad67c44b002e7ead0cc35693c...</td>\n",
              "      <td>High</td>\n",
              "    </tr>\n",
              "    <tr>\n",
              "      <th>1</th>\n",
              "      <td>Tipping the Velvet</td>\n",
              "      <td>53.74</td>\n",
              "      <td>In stock</td>\n",
              "      <td>1</td>\n",
              "      <td>catalogue/tipping-the-velvet_999/index.html</td>\n",
              "      <td>media/cache/26/0c/260c6ae16bce31c8f8c95daddd9f...</td>\n",
              "      <td>High</td>\n",
              "    </tr>\n",
              "    <tr>\n",
              "      <th>2</th>\n",
              "      <td>Soumission</td>\n",
              "      <td>50.10</td>\n",
              "      <td>In stock</td>\n",
              "      <td>1</td>\n",
              "      <td>catalogue/soumission_998/index.html</td>\n",
              "      <td>media/cache/3e/ef/3eef99c9d9adef34639f51066202...</td>\n",
              "      <td>High</td>\n",
              "    </tr>\n",
              "    <tr>\n",
              "      <th>3</th>\n",
              "      <td>Sharp Objects</td>\n",
              "      <td>47.82</td>\n",
              "      <td>In stock</td>\n",
              "      <td>4</td>\n",
              "      <td>catalogue/sharp-objects_997/index.html</td>\n",
              "      <td>media/cache/32/51/3251cf3a3412f53f339e42cac213...</td>\n",
              "      <td>High</td>\n",
              "    </tr>\n",
              "    <tr>\n",
              "      <th>4</th>\n",
              "      <td>Sapiens: A Brief History of Humankind</td>\n",
              "      <td>54.23</td>\n",
              "      <td>In stock</td>\n",
              "      <td>5</td>\n",
              "      <td>catalogue/sapiens-a-brief-history-of-humankind...</td>\n",
              "      <td>media/cache/be/a5/bea5697f2534a2f86a3ef27b5a8c...</td>\n",
              "      <td>High</td>\n",
              "    </tr>\n",
              "  </tbody>\n",
              "</table>\n",
              "</div>\n",
              "    <div class=\"colab-df-buttons\">\n",
              "\n",
              "  <div class=\"colab-df-container\">\n",
              "    <button class=\"colab-df-convert\" onclick=\"convertToInteractive('df-8b4175bf-b32a-4be3-9cb5-e19ee24fe347')\"\n",
              "            title=\"Convert this dataframe to an interactive table.\"\n",
              "            style=\"display:none;\">\n",
              "\n",
              "  <svg xmlns=\"http://www.w3.org/2000/svg\" height=\"24px\" viewBox=\"0 -960 960 960\">\n",
              "    <path d=\"M120-120v-720h720v720H120Zm60-500h600v-160H180v160Zm220 220h160v-160H400v160Zm0 220h160v-160H400v160ZM180-400h160v-160H180v160Zm440 0h160v-160H620v160ZM180-180h160v-160H180v160Zm440 0h160v-160H620v160Z\"/>\n",
              "  </svg>\n",
              "    </button>\n",
              "\n",
              "  <style>\n",
              "    .colab-df-container {\n",
              "      display:flex;\n",
              "      gap: 12px;\n",
              "    }\n",
              "\n",
              "    .colab-df-convert {\n",
              "      background-color: #E8F0FE;\n",
              "      border: none;\n",
              "      border-radius: 50%;\n",
              "      cursor: pointer;\n",
              "      display: none;\n",
              "      fill: #1967D2;\n",
              "      height: 32px;\n",
              "      padding: 0 0 0 0;\n",
              "      width: 32px;\n",
              "    }\n",
              "\n",
              "    .colab-df-convert:hover {\n",
              "      background-color: #E2EBFA;\n",
              "      box-shadow: 0px 1px 2px rgba(60, 64, 67, 0.3), 0px 1px 3px 1px rgba(60, 64, 67, 0.15);\n",
              "      fill: #174EA6;\n",
              "    }\n",
              "\n",
              "    .colab-df-buttons div {\n",
              "      margin-bottom: 4px;\n",
              "    }\n",
              "\n",
              "    [theme=dark] .colab-df-convert {\n",
              "      background-color: #3B4455;\n",
              "      fill: #D2E3FC;\n",
              "    }\n",
              "\n",
              "    [theme=dark] .colab-df-convert:hover {\n",
              "      background-color: #434B5C;\n",
              "      box-shadow: 0px 1px 3px 1px rgba(0, 0, 0, 0.15);\n",
              "      filter: drop-shadow(0px 1px 2px rgba(0, 0, 0, 0.3));\n",
              "      fill: #FFFFFF;\n",
              "    }\n",
              "  </style>\n",
              "\n",
              "    <script>\n",
              "      const buttonEl =\n",
              "        document.querySelector('#df-8b4175bf-b32a-4be3-9cb5-e19ee24fe347 button.colab-df-convert');\n",
              "      buttonEl.style.display =\n",
              "        google.colab.kernel.accessAllowed ? 'block' : 'none';\n",
              "\n",
              "      async function convertToInteractive(key) {\n",
              "        const element = document.querySelector('#df-8b4175bf-b32a-4be3-9cb5-e19ee24fe347');\n",
              "        const dataTable =\n",
              "          await google.colab.kernel.invokeFunction('convertToInteractive',\n",
              "                                                    [key], {});\n",
              "        if (!dataTable) return;\n",
              "\n",
              "        const docLinkHtml = 'Like what you see? Visit the ' +\n",
              "          '<a target=\"_blank\" href=https://colab.research.google.com/notebooks/data_table.ipynb>data table notebook</a>'\n",
              "          + ' to learn more about interactive tables.';\n",
              "        element.innerHTML = '';\n",
              "        dataTable['output_type'] = 'display_data';\n",
              "        await google.colab.output.renderOutput(dataTable, element);\n",
              "        const docLink = document.createElement('div');\n",
              "        docLink.innerHTML = docLinkHtml;\n",
              "        element.appendChild(docLink);\n",
              "      }\n",
              "    </script>\n",
              "  </div>\n",
              "\n",
              "\n",
              "<div id=\"df-4af25f96-678a-4ac4-96ee-a190094e4d6c\">\n",
              "  <button class=\"colab-df-quickchart\" onclick=\"quickchart('df-4af25f96-678a-4ac4-96ee-a190094e4d6c')\"\n",
              "            title=\"Suggest charts\"\n",
              "            style=\"display:none;\">\n",
              "\n",
              "<svg xmlns=\"http://www.w3.org/2000/svg\" height=\"24px\"viewBox=\"0 0 24 24\"\n",
              "     width=\"24px\">\n",
              "    <g>\n",
              "        <path d=\"M19 3H5c-1.1 0-2 .9-2 2v14c0 1.1.9 2 2 2h14c1.1 0 2-.9 2-2V5c0-1.1-.9-2-2-2zM9 17H7v-7h2v7zm4 0h-2V7h2v10zm4 0h-2v-4h2v4z\"/>\n",
              "    </g>\n",
              "</svg>\n",
              "  </button>\n",
              "\n",
              "<style>\n",
              "  .colab-df-quickchart {\n",
              "      --bg-color: #E8F0FE;\n",
              "      --fill-color: #1967D2;\n",
              "      --hover-bg-color: #E2EBFA;\n",
              "      --hover-fill-color: #174EA6;\n",
              "      --disabled-fill-color: #AAA;\n",
              "      --disabled-bg-color: #DDD;\n",
              "  }\n",
              "\n",
              "  [theme=dark] .colab-df-quickchart {\n",
              "      --bg-color: #3B4455;\n",
              "      --fill-color: #D2E3FC;\n",
              "      --hover-bg-color: #434B5C;\n",
              "      --hover-fill-color: #FFFFFF;\n",
              "      --disabled-bg-color: #3B4455;\n",
              "      --disabled-fill-color: #666;\n",
              "  }\n",
              "\n",
              "  .colab-df-quickchart {\n",
              "    background-color: var(--bg-color);\n",
              "    border: none;\n",
              "    border-radius: 50%;\n",
              "    cursor: pointer;\n",
              "    display: none;\n",
              "    fill: var(--fill-color);\n",
              "    height: 32px;\n",
              "    padding: 0;\n",
              "    width: 32px;\n",
              "  }\n",
              "\n",
              "  .colab-df-quickchart:hover {\n",
              "    background-color: var(--hover-bg-color);\n",
              "    box-shadow: 0 1px 2px rgba(60, 64, 67, 0.3), 0 1px 3px 1px rgba(60, 64, 67, 0.15);\n",
              "    fill: var(--button-hover-fill-color);\n",
              "  }\n",
              "\n",
              "  .colab-df-quickchart-complete:disabled,\n",
              "  .colab-df-quickchart-complete:disabled:hover {\n",
              "    background-color: var(--disabled-bg-color);\n",
              "    fill: var(--disabled-fill-color);\n",
              "    box-shadow: none;\n",
              "  }\n",
              "\n",
              "  .colab-df-spinner {\n",
              "    border: 2px solid var(--fill-color);\n",
              "    border-color: transparent;\n",
              "    border-bottom-color: var(--fill-color);\n",
              "    animation:\n",
              "      spin 1s steps(1) infinite;\n",
              "  }\n",
              "\n",
              "  @keyframes spin {\n",
              "    0% {\n",
              "      border-color: transparent;\n",
              "      border-bottom-color: var(--fill-color);\n",
              "      border-left-color: var(--fill-color);\n",
              "    }\n",
              "    20% {\n",
              "      border-color: transparent;\n",
              "      border-left-color: var(--fill-color);\n",
              "      border-top-color: var(--fill-color);\n",
              "    }\n",
              "    30% {\n",
              "      border-color: transparent;\n",
              "      border-left-color: var(--fill-color);\n",
              "      border-top-color: var(--fill-color);\n",
              "      border-right-color: var(--fill-color);\n",
              "    }\n",
              "    40% {\n",
              "      border-color: transparent;\n",
              "      border-right-color: var(--fill-color);\n",
              "      border-top-color: var(--fill-color);\n",
              "    }\n",
              "    60% {\n",
              "      border-color: transparent;\n",
              "      border-right-color: var(--fill-color);\n",
              "    }\n",
              "    80% {\n",
              "      border-color: transparent;\n",
              "      border-right-color: var(--fill-color);\n",
              "      border-bottom-color: var(--fill-color);\n",
              "    }\n",
              "    90% {\n",
              "      border-color: transparent;\n",
              "      border-bottom-color: var(--fill-color);\n",
              "    }\n",
              "  }\n",
              "</style>\n",
              "\n",
              "  <script>\n",
              "    async function quickchart(key) {\n",
              "      const quickchartButtonEl =\n",
              "        document.querySelector('#' + key + ' button');\n",
              "      quickchartButtonEl.disabled = true;  // To prevent multiple clicks.\n",
              "      quickchartButtonEl.classList.add('colab-df-spinner');\n",
              "      try {\n",
              "        const charts = await google.colab.kernel.invokeFunction(\n",
              "            'suggestCharts', [key], {});\n",
              "      } catch (error) {\n",
              "        console.error('Error during call to suggestCharts:', error);\n",
              "      }\n",
              "      quickchartButtonEl.classList.remove('colab-df-spinner');\n",
              "      quickchartButtonEl.classList.add('colab-df-quickchart-complete');\n",
              "    }\n",
              "    (() => {\n",
              "      let quickchartButtonEl =\n",
              "        document.querySelector('#df-4af25f96-678a-4ac4-96ee-a190094e4d6c button');\n",
              "      quickchartButtonEl.style.display =\n",
              "        google.colab.kernel.accessAllowed ? 'block' : 'none';\n",
              "    })();\n",
              "  </script>\n",
              "</div>\n",
              "\n",
              "    </div>\n",
              "  </div>\n"
            ],
            "application/vnd.google.colaboratory.intrinsic+json": {
              "type": "dataframe",
              "variable_name": "df",
              "summary": "{\n  \"name\": \"df\",\n  \"rows\": 20,\n  \"fields\": [\n    {\n      \"column\": \"title\",\n      \"properties\": {\n        \"dtype\": \"string\",\n        \"num_unique_values\": 20,\n        \"samples\": [\n          \"A Light in the Attic\",\n          \"Mesaerion: The Best Science Fiction Stories 1800-1849\",\n          \"Our Band Could Be Your Life: Scenes from the American Indie Underground, 1981-1991\"\n        ],\n        \"semantic_type\": \"\",\n        \"description\": \"\"\n      }\n    },\n    {\n      \"column\": \"price\",\n      \"properties\": {\n        \"dtype\": \"number\",\n        \"std\": 15.135230520039556,\n        \"min\": 13.99,\n        \"max\": 57.25,\n        \"num_unique_values\": 20,\n        \"samples\": [\n          51.77,\n          37.59,\n          57.25\n        ],\n        \"semantic_type\": \"\",\n        \"description\": \"\"\n      }\n    },\n    {\n      \"column\": \"availability\",\n      \"properties\": {\n        \"dtype\": \"category\",\n        \"num_unique_values\": 1,\n        \"samples\": [\n          \"In stock\"\n        ],\n        \"semantic_type\": \"\",\n        \"description\": \"\"\n      }\n    },\n    {\n      \"column\": \"rating\",\n      \"properties\": {\n        \"dtype\": \"number\",\n        \"std\": 1,\n        \"min\": 1,\n        \"max\": 5,\n        \"num_unique_values\": 5,\n        \"samples\": [\n          1\n        ],\n        \"semantic_type\": \"\",\n        \"description\": \"\"\n      }\n    },\n    {\n      \"column\": \"url\",\n      \"properties\": {\n        \"dtype\": \"string\",\n        \"num_unique_values\": 20,\n        \"samples\": [\n          \"catalogue/a-light-in-the-attic_1000/index.html\"\n        ],\n        \"semantic_type\": \"\",\n        \"description\": \"\"\n      }\n    },\n    {\n      \"column\": \"image_url\",\n      \"properties\": {\n        \"dtype\": \"string\",\n        \"num_unique_values\": 20,\n        \"samples\": [\n          \"media/cache/2c/da/2cdad67c44b002e7ead0cc35693c0e8b.jpg\"\n        ],\n        \"semantic_type\": \"\",\n        \"description\": \"\"\n      }\n    },\n    {\n      \"column\": \"price_category\",\n      \"properties\": {\n        \"dtype\": \"category\",\n        \"num_unique_values\": 2,\n        \"samples\": [\n          \"Medium\"\n        ],\n        \"semantic_type\": \"\",\n        \"description\": \"\"\n      }\n    }\n  ]\n}"
            }
          },
          "metadata": {},
          "execution_count": 21
        }
      ]
    },
    {
      "cell_type": "markdown",
      "source": [
        "# Loading data into the Database"
      ],
      "metadata": {
        "id": "3tW6a0dUITak"
      }
    },
    {
      "cell_type": "code",
      "source": [
        "# Load the DataFrame into an SQLite database\n",
        "conn = sqlite3.connect('books.db')\n",
        "df.to_sql('books', conn, if_exists='replace', index=False)\n",
        "# Verify that the data is inserted into the database\n",
        "query = \"SELECT * FROM books LIMIT 5\"\n",
        "result = pd.read_sql(query, conn)\n",
        "print(result)\n",
        "# Close the database connection\n",
        "conn.close()"
      ],
      "metadata": {
        "colab": {
          "base_uri": "https://localhost:8080/"
        },
        "id": "dm95t-mw4zmC",
        "outputId": "93ecac0f-41fc-474c-f564-ca49385c6ae5"
      },
      "execution_count": 26,
      "outputs": [
        {
          "output_type": "stream",
          "name": "stdout",
          "text": [
            "                                   title  price availability  rating  \\\n",
            "0                   A Light in the Attic  51.77     In stock       3   \n",
            "1                     Tipping the Velvet  53.74     In stock       1   \n",
            "2                             Soumission  50.10     In stock       1   \n",
            "3                          Sharp Objects  47.82     In stock       4   \n",
            "4  Sapiens: A Brief History of Humankind  54.23     In stock       5   \n",
            "\n",
            "                                                 url  \\\n",
            "0     catalogue/a-light-in-the-attic_1000/index.html   \n",
            "1        catalogue/tipping-the-velvet_999/index.html   \n",
            "2                catalogue/soumission_998/index.html   \n",
            "3             catalogue/sharp-objects_997/index.html   \n",
            "4  catalogue/sapiens-a-brief-history-of-humankind...   \n",
            "\n",
            "                                           image_url price_category  \n",
            "0  media/cache/2c/da/2cdad67c44b002e7ead0cc35693c...           High  \n",
            "1  media/cache/26/0c/260c6ae16bce31c8f8c95daddd9f...           High  \n",
            "2  media/cache/3e/ef/3eef99c9d9adef34639f51066202...           High  \n",
            "3  media/cache/32/51/3251cf3a3412f53f339e42cac213...           High  \n",
            "4  media/cache/be/a5/bea5697f2534a2f86a3ef27b5a8c...           High  \n"
          ]
        }
      ]
    },
    {
      "cell_type": "code",
      "source": [
        "import matplotlib.pyplot as plt\n",
        "import seaborn as sns\n",
        "# Load the data from the SQLite database\n",
        "conn = sqlite3.connect('books.db')\n",
        "query = \"SELECT * FROM books\"\n",
        "df_from_db = pd.read_sql(query, conn)\n",
        "# Verify the data structure\n",
        "print(df_from_db.head())\n",
        "# Close the database connection\n",
        "conn.close()"
      ],
      "metadata": {
        "colab": {
          "base_uri": "https://localhost:8080/"
        },
        "id": "yZJZjQ5H5i5W",
        "outputId": "b8dbe97f-9b68-47b9-f32e-92d840a117ac"
      },
      "execution_count": 27,
      "outputs": [
        {
          "output_type": "stream",
          "name": "stdout",
          "text": [
            "                                   title  price availability  rating  \\\n",
            "0                   A Light in the Attic  51.77     In stock       3   \n",
            "1                     Tipping the Velvet  53.74     In stock       1   \n",
            "2                             Soumission  50.10     In stock       1   \n",
            "3                          Sharp Objects  47.82     In stock       4   \n",
            "4  Sapiens: A Brief History of Humankind  54.23     In stock       5   \n",
            "\n",
            "                                                 url  \\\n",
            "0     catalogue/a-light-in-the-attic_1000/index.html   \n",
            "1        catalogue/tipping-the-velvet_999/index.html   \n",
            "2                catalogue/soumission_998/index.html   \n",
            "3             catalogue/sharp-objects_997/index.html   \n",
            "4  catalogue/sapiens-a-brief-history-of-humankind...   \n",
            "\n",
            "                                           image_url price_category  \n",
            "0  media/cache/2c/da/2cdad67c44b002e7ead0cc35693c...           High  \n",
            "1  media/cache/26/0c/260c6ae16bce31c8f8c95daddd9f...           High  \n",
            "2  media/cache/3e/ef/3eef99c9d9adef34639f51066202...           High  \n",
            "3  media/cache/32/51/3251cf3a3412f53f339e42cac213...           High  \n",
            "4  media/cache/be/a5/bea5697f2534a2f86a3ef27b5a8c...           High  \n"
          ]
        }
      ]
    },
    {
      "cell_type": "code",
      "source": [
        "# Data Exploration and Visualization"
      ],
      "metadata": {
        "id": "77EDbrny6Zxa"
      },
      "execution_count": 28,
      "outputs": []
    },
    {
      "cell_type": "code",
      "source": [
        "## Distribution of Book Prices"
      ],
      "metadata": {
        "id": "t4dCqiko6cwA"
      },
      "execution_count": 29,
      "outputs": []
    },
    {
      "cell_type": "code",
      "source": [
        "# Plotting the distribution of book prices\n",
        "plt.figure(figsize=(10, 6))\n",
        "sns.histplot(df_from_db['price'], kde=True, color='blue')\n",
        "plt.title('Distribution of Book Prices')\n",
        "plt.xlabel('Price (£)')\n",
        "plt.ylabel('Frequency')\n",
        "plt.show()"
      ],
      "metadata": {
        "colab": {
          "base_uri": "https://localhost:8080/",
          "height": 564
        },
        "id": "pNPscR-u6eMO",
        "outputId": "300a83e1-8889-4fca-d0cc-ec5271d17772"
      },
      "execution_count": 30,
      "outputs": [
        {
          "output_type": "display_data",
          "data": {
            "text/plain": [
              "<Figure size 1000x600 with 1 Axes>"
            ],
            "image/png": "[encoded data removed]"
          },
          "metadata": {}
        }
      ]
    },
    {
      "cell_type": "code",
      "source": [
        "## Top 10 Most Expensive Books"
      ],
      "metadata": {
        "id": "4GsN5hTC6hsD"
      },
      "execution_count": 31,
      "outputs": []
    },
    {
      "cell_type": "code",
      "source": [
        "# Sorting books by price in descending order and selecting the top 10\n",
        "top_10_expensive_books = df_from_db.sort_values(by='price', ascending=False).head(10)\n",
        "\n",
        "# Plotting the top 10 most expensive books\n",
        "plt.figure(figsize=(10, 6))\n",
        "sns.barplot(x='price', y='title', data=top_10_expensive_books, palette='viridis')\n",
        "plt.title('Top 10 Most Expensive Books')\n",
        "plt.xlabel('Price (£)')\n",
        "plt.ylabel('Book Title')\n",
        "plt.show()\n"
      ],
      "metadata": {
        "colab": {
          "base_uri": "https://localhost:8080/",
          "height": 596
        },
        "id": "oJxEQRkr6jK2",
        "outputId": "9ef54db9-0f08-4a41-e1ca-bada837692ec"
      },
      "execution_count": 32,
      "outputs": [
        {
          "output_type": "stream",
          "name": "stderr",
          "text": [
            "<ipython-input-32-ec060c8e9616>:6: FutureWarning: \n",
            "\n",
            "Passing `palette` without assigning `hue` is deprecated and will be removed in v0.14.0. Assign the `y` variable to `hue` and set `legend=False` for the same effect.\n",
            "\n",
            "  sns.barplot(x='price', y='title', data=top_10_expensive_books, palette='viridis')\n"
          ]
        },
        {
          "output_type": "display_data",
          "data": {
            "text/plain": [
              "<Figure size 1000x600 with 1 Axes>"
            ],
            "image/png": "[encoded data removed]"
          },
          "metadata": {}
        }
      ]
    },
    {
      "cell_type": "code",
      "source": [
        "## Rating Distribution of Books"
      ],
      "metadata": {
        "id": "aUMa9lKa6m-r"
      },
      "execution_count": 33,
      "outputs": []
    },
    {
      "cell_type": "code",
      "source": [
        "# Plotting the distribution of ratings\n",
        "plt.figure(figsize=(10, 6))\n",
        "sns.histplot(df_from_db['rating'], kde=True, color='green', bins=5)\n",
        "plt.title('Distribution of Book Ratings')\n",
        "plt.xlabel('Rating')\n",
        "plt.ylabel('Frequency')\n",
        "plt.show()\n"
      ],
      "metadata": {
        "colab": {
          "base_uri": "https://localhost:8080/",
          "height": 564
        },
        "id": "Gi8zswvo6nqU",
        "outputId": "935e495e-cebd-4f70-f403-c3522978e08b"
      },
      "execution_count": 35,
      "outputs": [
        {
          "output_type": "display_data",
          "data": {
            "text/plain": [
              "<Figure size 1000x600 with 1 Axes>"
            ],
            "image/png": "[encoded data removed]"
          },
          "metadata": {}
        }
      ]
    },
    {
      "cell_type": "code",
      "source": [],
      "metadata": {
        "id": "qAbVdb9Q6pjM"
      },
      "execution_count": null,
      "outputs": []
    }
  ]
}